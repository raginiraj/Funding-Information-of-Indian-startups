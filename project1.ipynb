{
 "cells": [
  {
   "cell_type": "markdown",
   "metadata": {},
   "source": [
    "# Number of startups in Banglore,New Delhi,Gurgaon,Noida and Mumbai"
   ]
  },
  {
   "cell_type": "code",
   "execution_count": 5,
   "metadata": {
    "scrolled": true
   },
   "outputs": [
    {
     "name": "stdout",
     "output_type": "stream",
     "text": [
      "Bangalore 637\n",
      "Mumbai 449\n",
      "New Delhi 389\n",
      "Gurgaon 241\n",
      "Noida 79\n",
      "Maximum startups are in  Bangalore with totalcount of  637\n"
     ]
    },
    {
     "data": {
      "image/png": "[encoded data removed]",
      "text/plain": [
       "<Figure size 432x288 with 1 Axes>"
      ]
     },
     "metadata": {
      "needs_background": "light"
     },
     "output_type": "display_data"
    }
   ],
   "source": [
    "import operator\n",
    "import csv\n",
    "import numpy as np\n",
    "from collections import OrderedDict\n",
    "import matplotlib.pyplot as plt\n",
    "startup=csv.DictReader(open('startup_funding.csv'),skipinitialspace=True)\n",
    "location={}\n",
    "#foreign=['California','Houston','Us','Usa','Boston','London','Palo alto','Seattle','New York','Dallas','Singapore','Sfo','Bangkok','San mateo','California','Dubai','Ny','Uk']\n",
    "preferred=['Bangalore','New Delhi','Gurgaon','Noida','Mumbai']\n",
    "for row in startup:\n",
    "    sloc=row['CityLocation']\n",
    "    if('/' in sloc):\n",
    "        slocl=sloc.split(\"/\") \n",
    "        for i in slocl:\n",
    "            i=i.strip()\n",
    "            i=i.title()\n",
    "            if(i=='Delhi'):\n",
    "                i='New Delhi'\n",
    "            if i in preferred:\n",
    "                location[i]=location.get(i,0)+1\n",
    "    else:\n",
    "        sloc=sloc.strip()\n",
    "        sloc=sloc.title()\n",
    "        if(sloc=='Delhi'):\n",
    "            sloc='New Delhi'\n",
    "        if(sloc in preferred):\n",
    "            location[sloc]=location.get(sloc,0)+1\n",
    "location1=dict(sorted(location.items(), key=operator.itemgetter(1),reverse=True))\n",
    "j=0\n",
    "l=[]\n",
    "v=[]\n",
    "for i in location1.keys():\n",
    "    if(j<10):\n",
    "        print(i,location1[i])\n",
    "        l.append(i)\n",
    "        v.append(location1[i])\n",
    "        j=j+1\n",
    "print(\"Maximum startups are in \",l[0],'with totalcount of ',v[0])\n",
    "plt.bar(l,v)\n",
    "plt.show()"
   ]
  },
  {
   "cell_type": "markdown",
   "metadata": {},
   "source": [
    "# Top Investors and their total numbe rof Investment"
   ]
  },
  {
   "cell_type": "code",
   "execution_count": 6,
   "metadata": {},
   "outputs": [
    {
     "data": {
      "image/png": "[encoded data removed]",
      "text/plain": [
       "<Figure size 720x360 with 1 Axes>"
      ]
     },
     "metadata": {
      "needs_background": "light"
     },
     "output_type": "display_data"
    },
    {
     "name": "stdout",
     "output_type": "stream",
     "text": [
      "Sequoia Capital Accel Partners Kalaari Capital Blume Ventures Saif Partners\n",
      "64 55 46 44 43\n"
     ]
    }
   ],
   "source": [
    "import operator\n",
    "import csv\n",
    "import numpy as np\n",
    "from collections import OrderedDict\n",
    "import matplotlib.pyplot as plt\n",
    "import pandas as pd\n",
    "startup=pd.read_csv(\"startup_funding.csv\",encoding='ISO-8859-1',skipinitialspace=True)\n",
    "startup['InvestorsName'].fillna('Undisclosed',inplace=True)\n",
    "startup['InvestorsName']=startup['InvestorsName'].apply(lambda x: str(str(x).replace(' and ',',')) )\n",
    "startup['InvestorsName']=startup['InvestorsName'].apply(lambda x: str(str(x).replace(u'\\xa0', u' ')) )\n",
    "investors={}\n",
    "for i,rows in startup.iterrows():\n",
    "    k=rows.InvestorsName\n",
    "    if(\"undisclosed\" in k or \"Undisclosed\" in k or k=='' or 'unnamed' in k or 'Unnamed' in k):\n",
    "        continue\n",
    "    else:\n",
    "        if(',' in k):\n",
    "            klist=k.split(\",\")\n",
    "            for i in klist:\n",
    "                i=i.strip()\n",
    "                i=i.lower()\n",
    "                i=i.title()\n",
    "                if (' & Others' in k and k !=''):\n",
    "                    investors[i]=investors.get(i,0)+1 \n",
    "                else:\n",
    "                    x=i.split(' & ')\n",
    "                    for j in x:\n",
    "                        j=j.strip()\n",
    "                        j=j.lower()\n",
    "                        j=j.title()\n",
    "                        if(j!=''):\n",
    "                            investors[j]=investors.get(j,0)+1\n",
    "                \n",
    "        else:\n",
    "            i=k.strip()\n",
    "            i=i.lower()\n",
    "            i=i.title()\n",
    "            if(i!=''):\n",
    "                investors[i]=investors.get(i,0)+1\n",
    "investors=dict(sorted(investors.items(),key=operator.itemgetter(1),reverse=True))\n",
    "investorlist=[]\n",
    "numberofinvestment=[]\n",
    "j=0\n",
    "for k in investors.keys():\n",
    "    if(j<5):\n",
    "        investorlist.append(k)\n",
    "        numberofinvestment.append(investors[k])\n",
    "        j=j+1\n",
    "plt.figure(figsize=(10,5))\n",
    "plt.bar(investorlist,numberofinvestment)\n",
    "plt.show()\n",
    "print(*investorlist)\n",
    "print(*numberofinvestment)\n"
   ]
  },
  {
   "cell_type": "markdown",
   "metadata": {},
   "source": [
    "# Top 5 investors who have invested maximum number of times in different companies. That means, if one investor has invested multiple times in one startup, count one for that company"
   ]
  },
  {
   "cell_type": "code",
   "execution_count": 7,
   "metadata": {},
   "outputs": [
    {
     "data": {
      "image/png": "[encoded data removed]",
      "text/plain": [
       "<Figure size 720x360 with 1 Axes>"
      ]
     },
     "metadata": {
      "needs_background": "light"
     },
     "output_type": "display_data"
    },
    {
     "name": "stdout",
     "output_type": "stream",
     "text": [
      "Sequoia Capital Accel Partners Kalaari Capital  Saif Partners\n",
      "64 53 46 44 43\n"
     ]
    }
   ],
   "source": [
    "import pandas as pd\n",
    "import numpy as np\n",
    "import operator\n",
    "import matplotlib.pyplot as plt\n",
    "data=pd.read_csv('startup_funding.csv',encoding='ISO-8859-1',skipinitialspace=True)\n",
    "data['StartupName'].replace('Olacabs','Ola',inplace=True)\n",
    "data['StartupName'].replace('Ola cabs','Ola',inplace=True)\n",
    "data['StartupName'].replace('Flipkart.com','Flipkart',inplace=True)\n",
    "data['StartupName'].replace('Paytm Marketplace','Paytm',inplace=True)\n",
    "data['StartupName'].replace('Oyo Rooms','Oyo',inplace=True)\n",
    "data['StartupName'].replace('Oyorooms','Oyo',inplace=True)\n",
    "data['StartupName'].replace('OyoRooms','Oyo',inplace=True)\n",
    "data['StartupName'].replace('OYO Rooms','Oyo',inplace=True)\n",
    "data['InvestorsName'].fillna('Undisclosed',inplace=True)\n",
    "data['InvestorsName']=data['InvestorsName'].apply(lambda x: str(str(x).replace(' and ',',')) )\n",
    "data['InvestorsName']=data['InvestorsName'].apply(lambda x: str(str(x).replace(u'\\xa0', u' ')) )\n",
    "investors={}\n",
    "for i,rows in data.iterrows():\n",
    "    k=rows.InvestorsName\n",
    "    if(\"undisclosed\" in k or \"Undisclosed\" in k or k=='' or 'unnamed' in k or 'Unnamed' in k):\n",
    "        continue\n",
    "    elif(','  not in k):\n",
    "        k=k.strip()\n",
    "        k=k.lower()\n",
    "        k=k.title()\n",
    "        investors[k]=investors.get(k,0)+1\n",
    "    else:\n",
    "        s=set()\n",
    "        klist=k.split(',')\n",
    "        for j in klist:\n",
    "            j=j.strip()\n",
    "            j=j.lower()\n",
    "            j=j.title()\n",
    "            if(' & Others' in  j or j!=''):\n",
    "                s.add(j)\n",
    "            else:\n",
    "                x=j.split(' & ')\n",
    "                for j in x:\n",
    "                    j=j.strip()\n",
    "                    j=j.lower()\n",
    "                    j=j.title()\n",
    "                    s.add(j)\n",
    "        for d in s:\n",
    "            if('undisclosed' in d or 'Undisclosed' in d):\n",
    "                pass\n",
    "            else:\n",
    "                investors[d]=investors.get(d,0)+1\n",
    "investors=dict(sorted(investors.items(),key=operator.itemgetter(1),reverse=True))\n",
    "investorlist=[]\n",
    "numberofinvestment=[]\n",
    "j=0\n",
    "for k in investors.keys():\n",
    "    if(j<5):\n",
    "        investorlist.append(k)\n",
    "        numberofinvestment.append(investors[k])\n",
    "        j=j+1\n",
    "plt.figure(figsize=(10,5))\n",
    "plt.bar(investorlist,numberofinvestment)\n",
    "plt.show()\n",
    "print(*investorlist)\n",
    "print(*numberofinvestment)"
   ]
  },
  {
   "cell_type": "markdown",
   "metadata": {},
   "source": [
    "#  Top 5 investors who have invested in a different number of startups and their investment type is Crowdfunding or Seed Funding"
   ]
  },
  {
   "cell_type": "code",
   "execution_count": 8,
   "metadata": {},
   "outputs": [
    {
     "data": {
      "image/png": "[encoded data removed]",
      "text/plain": [
       "<Figure size 720x360 with 1 Axes>"
      ]
     },
     "metadata": {
      "needs_background": "light"
     },
     "output_type": "display_data"
    },
    {
     "name": "stdout",
     "output_type": "stream",
     "text": [
      "Indian Angel Network Rajan Anandan Group Of Angel Investors Anupam Mittal Letsventure\n",
      "34 24 20 16 16\n"
     ]
    }
   ],
   "source": [
    "import operator\n",
    "import math\n",
    "import csv\n",
    "import numpy as np\n",
    "from collections import OrderedDict\n",
    "import pandas as pd\n",
    "import matplotlib.pyplot as plt\n",
    "\n",
    "startup=pd.read_csv(open('startup_funding.csv'),skipinitialspace=True,encoding='ISO-8859-1')\n",
    "startup['InvestmentType'].replace('PrivateEquity','Private Equity',inplace=True)\n",
    "startup['InvestmentType'].replace('SeedFunding','Seed Funding',inplace=True)\n",
    "startup['InvestmentType'].replace('Crowd funding','Crowd Funding',inplace=True)\n",
    "startup['InvestmentType'].replace('DebtFunding','Debt Funding',inplace=True)\n",
    "startup['StartupName'].replace('Olacabs','Ola',inplace=True)\n",
    "startup['StartupName'].replace('Ola cabs','Ola',inplace=True)\n",
    "startup['StartupName'].replace('Flipkart.com','Flipkart',inplace=True)\n",
    "startup['StartupName'].replace('Paytm Marketplace','Paytm',inplace=True)\n",
    "startup['StartupName'].replace('Oyo Rooms','Oyo',inplace=True)\n",
    "startup['StartupName'].replace('Oyorooms','Oyo',inplace=True)\n",
    "startup['StartupName'].replace('OyoRooms','Oyo',inplace=True)\n",
    "startup['StartupName'].replace('OYO Rooms','Oyo',inplace=True)\n",
    "startup['InvestorsName'].fillna('Undisclosed',inplace=True)\n",
    "startup['InvestorsName']=startup['InvestorsName'].apply(lambda x: str(str(x).replace(' and ',',')) )\n",
    "startup['InvestorsName']=startup['InvestorsName'].apply(lambda x: str(str(x).replace(u'\\xa0', u' ')) )\n",
    "investors={}\n",
    "for i,rows in startup.iterrows():\n",
    "    t=rows.InvestmentType\n",
    "    if(t=='Crowd Funding' or t=='Seed Funding'):\n",
    "        k=rows.InvestorsName\n",
    "        if(\"undisclosed\" in k or \"Undisclosed\" in k or k=='' or 'unnamed' in k or 'Unnamed' in k):\n",
    "            continue\n",
    "        elif(','  not in k):\n",
    "            k=k.strip()\n",
    "            k=k.lower()\n",
    "            k=k.title()\n",
    "            investors[k]=investors.get(k,0)+1\n",
    "        else:\n",
    "            s=set()\n",
    "            klist=k.split(',')\n",
    "            for j in klist:\n",
    "                j=j.strip()\n",
    "                j=j.lower()\n",
    "                j=j.title()\n",
    "                if(' & Others' in  j or j!=''):\n",
    "                    s.add(j)\n",
    "                else:\n",
    "                    x=j.split(' & ')\n",
    "                    for j in x:\n",
    "                        j=j.strip()\n",
    "                        j=j.lower()\n",
    "                        j=j.title()\n",
    "                        s.add(j)\n",
    "            for d in s:\n",
    "                if('undisclosed' in d or 'Undisclosed' in d or d==''):\n",
    "                    continue\n",
    "                else:\n",
    "                    investors[d]=investors.get(d,0)+1\n",
    "investors=dict(sorted(investors.items(),key=operator.itemgetter(1),reverse=True))\n",
    "investorlist=[]\n",
    "numberofinvestment=[]\n",
    "j=0\n",
    "for k in investors.keys():\n",
    "    if(j<5):\n",
    "        investorlist.append(k)\n",
    "        numberofinvestment.append(investors[k])\n",
    "        j=j+1\n",
    "plt.figure(figsize=(10,5))\n",
    "plt.bar(investorlist,numberofinvestment)\n",
    "plt.show()\n",
    "print(*investorlist)\n",
    "print(*numberofinvestment)"
   ]
  },
  {
   "cell_type": "markdown",
   "metadata": {},
   "source": [
    "# question 5"
   ]
  },
  {
   "cell_type": "code",
   "execution_count": 9,
   "metadata": {},
   "outputs": [
    {
     "data": {
      "image/png": "[encoded data removed]",
      "text/plain": [
       "<Figure size 720x360 with 1 Axes>"
      ]
     },
     "metadata": {
      "needs_background": "light"
     },
     "output_type": "display_data"
    },
    {
     "name": "stdout",
     "output_type": "stream",
     "text": [
      "Sequoia Capital Accel Partners Kalaari Capital Saif Partners Blume Ventures\n",
      "59 47 40 37 31\n"
     ]
    }
   ],
   "source": [
    "investors={}\n",
    "for i,rows in startup.iterrows():\n",
    "    t=rows.InvestmentType\n",
    "    if(t=='Private Equity'):\n",
    "        k=rows.InvestorsName\n",
    "        if(\"undisclosed\" in k or \"Undisclosed\" in k or k=='' or 'unnamed' in k or 'Unnamed' in k):\n",
    "            continue\n",
    "        elif(','  not in k):\n",
    "            k=k.strip()\n",
    "            k=k.lower()\n",
    "            k=k.title()\n",
    "            investors[k]=investors.get(k,0)+1\n",
    "        else:\n",
    "            s=set()\n",
    "            klist=k.split(',')\n",
    "            for j in klist:\n",
    "                j=j.strip()\n",
    "                j=j.lower()\n",
    "                j=j.title()\n",
    "                if(' & Others' in  j or j!=''):\n",
    "                    s.add(j)\n",
    "                else:\n",
    "                    x=j.split(' & ')\n",
    "                    for j in x:\n",
    "                        j=j.strip()\n",
    "                        j=j.lower()\n",
    "                        j=j.title()\n",
    "                        s.add(j)\n",
    "            for d in s:\n",
    "                if('undisclosed' in d or 'Undisclosed' in d or d==''):\n",
    "                    continue\n",
    "                else:\n",
    "                    investors[d]=investors.get(d,0)+1\n",
    "investors=dict(sorted(investors.items(),key=operator.itemgetter(1),reverse=True))\n",
    "investorlist=[]\n",
    "numberofinvestment=[]\n",
    "j=0\n",
    "for k in investors.keys():\n",
    "    if(j<5):\n",
    "        investorlist.append(k)\n",
    "        numberofinvestment.append(investors[k])\n",
    "        j=j+1\n",
    "plt.figure(figsize=(10,5))\n",
    "plt.bar(investorlist,numberofinvestment)\n",
    "plt.show()\n",
    "print(*investorlist)\n",
    "print(*numberofinvestment)"
   ]
  },
  {
   "cell_type": "code",
   "execution_count": null,
   "metadata": {},
   "outputs": [],
   "source": []
  }
 ],
 "metadata": {
  "kernelspec": {
   "display_name": "Python 3",
   "language": "python",
   "name": "python3"
  },
  "language_info": {
   "codemirror_mode": {
    "name": "ipython",
    "version": 3
   },
   "file_extension": ".py",
   "mimetype": "text/x-python",
   "name": "python",
   "nbconvert_exporter": "python",
   "pygments_lexer": "ipython3",
   "version": "3.7.6"
  }
 },
 "nbformat": 4,
 "nbformat_minor": 4
}
